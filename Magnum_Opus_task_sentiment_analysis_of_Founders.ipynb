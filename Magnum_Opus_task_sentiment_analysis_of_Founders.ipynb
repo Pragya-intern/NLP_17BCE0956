{
 "cells": [
  {
   "cell_type": "code",
   "execution_count": 1,
   "metadata": {},
   "outputs": [
    {
     "name": "stderr",
     "output_type": "stream",
     "text": [
      "[nltk_data] Downloading package vader_lexicon to\n",
      "[nltk_data]     C:\\Users\\dell\\AppData\\Roaming\\nltk_data...\n",
      "[nltk_data]   Package vader_lexicon is already up-to-date!\n"
     ]
    },
    {
     "data": {
      "text/plain": [
       "True"
      ]
     },
     "execution_count": 1,
     "metadata": {},
     "output_type": "execute_result"
    }
   ],
   "source": [
    "import nltk\n",
    "nltk.download('vader_lexicon')\n",
    "# sentiment analysis using nltk libraries"
   ]
  },
  {
   "cell_type": "code",
   "execution_count": 2,
   "metadata": {},
   "outputs": [],
   "source": [
    "from nltk.sentiment.vader import SentimentIntensityAnalyzer \n",
    "#generates positive, negative, and neutral sentiment scores for a given input\n",
    "sia=SentimentIntensityAnalyzer()"
   ]
  },
  {
   "cell_type": "code",
   "execution_count": 3,
   "metadata": {},
   "outputs": [],
   "source": [
    "#article on David Karp-- CEO of Tumblr\n",
    "from urllib import request\n",
    "url = \"https://www.mediabistro.com/interviews/so-what-do-you-do-david-karp-founder-of-tumblr/\"\n",
    "response = request.urlopen(url)\n",
    "raw1 = response.read().decode('utf8')"
   ]
  },
  {
   "cell_type": "code",
   "execution_count": 4,
   "metadata": {},
   "outputs": [],
   "source": [
    "#article on Efe Cakarel-- CEO of Mubi\n",
    "from urllib import request\n",
    "url = \"https://kinfolk.com/efe-cakarel/\"\n",
    "response = request.urlopen(url)\n",
    "raw2 = response.read().decode('utf8')"
   ]
  },
  {
   "cell_type": "code",
   "execution_count": 5,
   "metadata": {},
   "outputs": [],
   "source": [
    "scores1 = sia.polarity_scores(raw1)\n",
    "scores2 = sia.polarity_scores(raw2)"
   ]
  },
  {
   "cell_type": "code",
   "execution_count": 6,
   "metadata": {},
   "outputs": [
    {
     "name": "stdout",
     "output_type": "stream",
     "text": [
      "{'neg': 0.015, 'neu': 0.903, 'pos': 0.082, 'compound': 0.9998}\n",
      "{'neg': 0.009, 'neu': 0.959, 'pos': 0.032, 'compound': 0.9975}\n"
     ]
    }
   ],
   "source": [
    "#printing sentiment analysis scores of the 2 articles\n",
    "print(scores1)\n",
    "print(scores2)"
   ]
  },
  {
   "cell_type": "code",
   "execution_count": 71,
   "metadata": {},
   "outputs": [
    {
     "data": {
      "text/plain": [
       "[('(', '('),\n",
       " ('function', 'NN'),\n",
       " ('(', '('),\n",
       " ('w', 'NN'),\n",
       " (',', ','),\n",
       " ('d', 'NN'),\n",
       " (',', ','),\n",
       " ('s', 'NN'),\n",
       " (',', ','),\n",
       " ('l', 'NN')]"
      ]
     },
     "execution_count": 71,
     "metadata": {},
     "output_type": "execute_result"
    }
   ],
   "source": [
    "# For sentimant analysis mainly the adjectives and adverbs are used\n",
    "# Here we will be tokenizing and doing POS-tagging to ultimately collect adjectives\n",
    "\n",
    "tokens = nltk.word_tokenize(cleantext1)\n",
    "taggs = nltk.pos_tag(tokens)\n",
    "taggs[0:10]\n"
   ]
  },
  {
   "cell_type": "code",
   "execution_count": 72,
   "metadata": {},
   "outputs": [],
   "source": [
    "T=\"\" # used to store all tokens that are marked as adjectives\n",
    "for tagg in taggs:\n",
    "    key,tag=tagg\n",
    "    if tag == 'JJ':\n",
    "        T=T+key+\" \""
   ]
  },
  {
   "cell_type": "code",
   "execution_count": 73,
   "metadata": {},
   "outputs": [
    {
     "name": "stdout",
     "output_type": "stream",
     "text": [
      "Sentiment(polarity=0.19311743811743806, subjectivity=0.5596254386639002)\n"
     ]
    }
   ],
   "source": [
    "analysis=TextBlob(T) # using textblob sentiment analysis to find polarity \n",
    "print(analysis.sentiment)"
   ]
  },
  {
   "cell_type": "code",
   "execution_count": 65,
   "metadata": {},
   "outputs": [],
   "source": [
    "tokens2 = nltk.word_tokenize(cleantext) #similarly for article 2 about Efe\n",
    "taggeds = nltk.pos_tag(tokens2)\n"
   ]
  },
  {
   "cell_type": "code",
   "execution_count": 67,
   "metadata": {},
   "outputs": [
    {
     "name": "stdout",
     "output_type": "stream",
     "text": [
      "url //kinfolk.com/ //kinfolk.com/wp-content/uploads/2016/11/logo.svg .woocommerce form visible * ] var \\/\\/kinfolk.com\\/wp-admin\\/admin-ajax.php ] slp_info_bubble [ ] strong suffix [ [ br \\r\\n < url url raw \\r\\n ifset < br < \\/\\/kinfolk.com\\/wordpress\\/wp-content\\/plugins\\/store-locator-le\\/images\\/icons\\/bulb_azure.png \\/\\/kinfolk.com\\/wordpress\\/wp-content\\/plugins\\/store-locator-le\\/images\\/icons\\/box_yellow_home.png different location_primary ] section=primary \\r\\n [ < section=primary section=secondary \\r\\n [ section=secondary section=tertiary \\r\\n raw \\/\\/ saddr= [ < text raw section=tertiary network_active false \\/\\/kinfolk.com\\/wp-content\\/plugins\\/store-locator-le \\/\\/kinfolk.com\\/wp-admin\\/admin-ajax.php \\/\\/kinfolk.com\\/wp-json\\/store-locator-plus\\/v2\\/ no_api_key likely \\/\\/developers.google.com\\/maps\\/documentation\\/javascript\\/get-api-key\\ br\\/ ] //kinfolk.com/wp-admin/admin-ajax.php slp_tagline width:100 .woocommerce-product-gallery important .custom-gift-option-section important w new var new c h i //chimpstatic.com/mcjs-connected/js/users/22754bb51e11b3de6912e768c/516ccd5546c942272555f63b0.js chevron-down beautiful curated extraordinary third ’ first 10-year-old overhearing entire coastal art-house only Turkish national big first obvious ’ good films—a new available remarkable re confident next ll 18th-century beautiful wooden big central hard s many fear same breakfast—soft-boiled olive little big entire \\/\\/kinfolk.com\\/wp-content\\/uploads\\/2020\\/02\\/Efe_Cakarel_01-683x1024.jpg \\/\\/kinfolk.com\\/wp-content\\/uploads\\/2020\\/02\\/Efe_Cakarel_04-1024x683.jpg \\/\\/kinfolk.com\\/wp-content\\/uploads\\/2020\\/02\\/Efe_Cakarel_02-683x1024.jpg \\/\\/kinfolk.com\\/wp-content\\/uploads\\/2020\\/02\\/Efe_Cakarel_03-683x1024.jpg previous next acclaimed professional good overdue stylish entrepreneur footwear international personal website appropriate analyze false true false false true true false true false true true notify_position_horizontal notify_position_vertical false false false false false false false false true ] /woocommerce-no-js/ 'woocommerce-js document.body.className wc-ajax= endpoint ] wc-ajax= endpoint ] wc-ajax= endpoint ] \\/\\/kinfolk.com\\/wp-admin\\/admin-ajax.php ] \\/\\/kinfolk.com\\/wp-admin\\/admin-ajax.php ] new var \n"
     ]
    }
   ],
   "source": [
    "tagg=\"\"\n",
    "for tagged in taggeds:\n",
    "    key,tag=tagged\n",
    "    if tag =='JJ':\n",
    "        tagg=tagg+key+\" \"\n",
    "        \n",
    "print(tagg)"
   ]
  },
  {
   "cell_type": "code",
   "execution_count": 68,
   "metadata": {},
   "outputs": [
    {
     "name": "stdout",
     "output_type": "stream",
     "text": [
      "Sentiment(polarity=0.06883046440738737, subjectivity=0.5287609826071367)\n"
     ]
    }
   ],
   "source": [
    "from textblob import TextBlob\n",
    "analysis=TextBlob(tagg)\n",
    "print(analysis.sentiment)\n",
    "\n",
    "#Efe's article is more negative than Karp's"
   ]
  },
  {
   "cell_type": "markdown",
   "metadata": {},
   "source": [
    "Thus, using both nltk.sentiment.vader and textblob we see Karp's article is more positive"
   ]
  },
  {
   "cell_type": "code",
   "execution_count": 22,
   "metadata": {},
   "outputs": [
    {
     "name": "stdout",
     "output_type": "stream",
     "text": [
      "html lang=\"en-US PERSON\n",
      "#\" MONEY\n",
      "d.createElement(s),dl CARDINAL\n",
      "document,'script','dataLayer','GTM-W9W9V4');</script PERSON\n",
      "href=\"http://gmpg.org/xfn/11 WORK_OF_ART\n",
      "David Karp PERSON\n",
      "Yoast CARDINAL\n",
      "SEO ORG\n",
      "v8.4 - https://yoast.com/wordpress/plugins/seo/ ORG\n",
      "David Karp PERSON\n",
      "Karp PERSON\n",
      "Tumblr ORG\n",
      "David Karp PERSON\n",
      "David Karp PERSON\n",
      "Karp PERSON\n",
      "Tumblr ORG\n",
      "site_name DATE\n",
      "published_time DATE\n",
      "modified_time DATE\n",
      "updated_time DATE\n",
      "content=\"David Karp WORK_OF_ART\n",
      "David Karp PERSON\n",
      "Karp PERSON\n",
      "Tumblr ORG\n",
      "David Karp PERSON\n",
      "Yoast CARDINAL\n",
      "SEO ORG\n",
      "title=\"Mediabistro &raquo ORG\n",
      "title=\"Mediabistro &raquo ORG\n",
      "title=\"Mediabistro &raquo ORG\n",
      "David Karp PERSON\n",
      "String.fromCharCode;l.clearRect(0,0,k.width DATE\n",
      "k.height),l.fillText(c.apply(this GPE\n",
      "a),0,0);var ORG\n",
      "k.toDataURL();l.clearRect(0,0,k.width ORG\n",
      "k.height),l.fillText(c.apply(this GPE\n",
      "k.toDataURL();return PERSON\n",
      "b;if(!l||!l.fillText)return!1;switch(l.textBaseline=\"top\",l.font=\"600 32px DATE\n",
      "b.createElement(\"canvas\"),l GPE\n",
      "Array(\"flag\",\"emoji\"),c.supports={everything:!0,everythingExceptFlag:!0},i=0;i ORG\n",
      "1em DATE\n",
      "1em ORDINAL\n",
      "0 CARDINAL\n",
      "0 CARDINAL\n",
      "js/bootstrap-datepicker.js?ver=1'></script ORG\n",
      "ajaxurl\":\"https:\\/\\/www.mediabistro.com\\/wp-admin\\/admin-ajax.php\",\"ajax_loader\":\"https:\\/\\/www.mediabistro.com\\/wp PRODUCT\n",
      "type='text/javascript' MONEY\n",
      "key\":\"pk_live_KXcvNd1xVCceNibbq278xyrX PERSON\n",
      "title=\"RSD\" href=\"https://www.mediabistro.com/xmlrpc.php?rsd\" WORK_OF_ART\n",
      "href=\"https://www.mediabistro.com/wp-json/ WORK_OF_ART\n",
      "https%3A%2F%2Fwww.mediabistro.com%2Finterviews%2Fso CARDINAL\n",
      "https%3A%2F%2Fwww.mediabistro.com%2Finterviews%2Fso CARDINAL\n",
      "1 CARDINAL\n",
      "WordPress ORG\n",
      "1 CARDINAL\n",
      "content=\"https://www.mediabistro.com ORG\n",
      "postid-1958 ORG\n",
      "GTM ORG\n",
      "id=\"menu-item-1304 ORG\n",
      "div PERSON\n",
      "li PERSON\n",
      "class=\"fa fa-facebook\"></i></a PERSON\n",
      "href=\"https://twitter.com/mediabistro WORK_OF_ART\n",
      "div class=\"menu-toggle PERSON\n",
      "div id=\"menu-toggle PERSON\n",
      "class=\"icon icon-menu-bars\"></i></a PERSON\n",
      "#\" MONEY\n",
      "href=\"https://www.mediabistro.com/ CARDINAL\n",
      "button class=\"menu-toggle PERSON\n",
      "aria-expanded=\"false\"></button ORG\n",
      "div class=\"menu-top PERSON\n",
      "li id=\"menu-item-453 PERSON\n",
      "li id=\"menu-item-455 PERSON\n",
      "li id=\"menu-item-9586 PERSON\n",
      "Services</a></li QUANTITY\n",
      "li id=\"menu-item-283788 PERSON\n",
      "li id=\"menu-item-456 PERSON\n",
      "li id=\"menu-item-283804 PERSON\n",
      "li id=\"menu-item-4058 PERSON\n",
      "Pitch</a></li GPE\n",
      "href=\"https://www.mediabistro.com/mastheads/\">Mastheads & ORG\n",
      "038 MONEY\n",
      "li id=\"menu-item-283791 PERSON\n",
      "li id=\"menu-item-263822 PERSON\n",
      "Services</a></li DATE\n",
      "Freelance Profiles</a></li ORG\n",
      "# CARDINAL\n",
      "div id=\"social PERSON\n",
      "div PERSON\n",
      "addthis_button_facebook PERSON\n",
      "addthis_button_email PERSON\n",
      "class=\"icon icon-icon-mail\"></i></a></li></ul></div PERSON\n",
      "h3 ORG\n",
      "David Karp PERSON\n",
      "Job</a></h2 NORP\n",
      "li id=\"menu-item-587 PERSON\n",
      "li id=\"menu-item-588 PERSON\n",
      "li id=\"menu-item-9587 PERSON\n",
      "Services</a></li QUANTITY\n",
      "div PERSON\n",
      "div PERSON\n",
      "div PERSON\n",
      "div class=\"menu-resources-container\"><ul PERSON\n",
      "Pitch</a></li GPE\n",
      "li id=\"menu-item-283799 PERSON\n",
      "href=\"https://www.mediabistro.com/mastheads/\">Mastheads & ORG\n",
      "038 MONEY\n",
      "li id=\"menu-item-283800 ORG\n",
      "div PERSON\n",
      "id=\"membership-menu WORK_OF_ART\n",
      "Services</a></li DATE\n",
      "li id=\"menu-item-263840 PERSON\n",
      "Freelance Profiles</a></li ORG\n",
      "Account ORG\n",
      "038 MONEY\n",
      "Support</a></li GPE\n",
      "class=\"fa fa-facebook\"></i></a PERSON\n",
      "href=\"https://twitter.com/mediabistro WORK_OF_ART\n",
      "Up for Email WORK_OF_ART\n",
      "div class=\"mb-subscribe PERSON\n",
      "class='full_length_box ajaxEmailSubmit mb-form' WORK_OF_ART\n",
      "div class=\"ie-message PERSON\n",
      "#\" MONEY\n",
      "browser.<br ORG\n",
      "Chrome</p ORG\n",
      "div id=\"firefox PERSON\n",
      "Firefox</p ORG\n",
      "id=\"main WORK_OF_ART\n",
      "div id=\"post-categories\"><a href=\"https://www.mediabistro.com PERSON\n",
      "Pros</a></div ORG\n",
      "David Karp PERSON\n",
      "div id=\"header PERSON\n",
      "div PERSON\n",
      "vcard ORG\n",
      "author_name DATE\n",
      "post-author\"><span ORG\n",
      "sammy-davis\">Sammy PERSON\n",
      "div id=\"post-views PERSON\n",
      "div PERSON\n",
      "addthis_button_facebook PERSON\n",
      "addthis_button_email PERSON\n",
      "class=\"icon icon-icon-mail\"></i></a></li></ul></div></div PERSON\n",
      "div PERSON\n",
      "author_name DATE\n",
      "post-author\"><span ORG\n",
      "sammy-davis\">Sammy PERSON\n",
      "div id=\"post-views PERSON\n",
      "addthis_button_facebook PERSON\n",
      "addthis_button_email PERSON\n",
      "class=\"icon icon-icon-mail\"></i></a></li></ul></div PERSON\n",
      "div PERSON\n",
      "div PERSON\n",
      "src=\"/wp GPE\n",
      "David Karp PERSON\n",
      "15 DATE\n",
      "New York&#8217;s GPE\n",
      "17 CARDINAL\n",
      "Tokyo GPE\n",
      "UrbanBaby ORG\n",
      "dads.</p GPE\n",
      "20 DATE\n",
      "tumblelog PERSON\n",
      "8212 MONEY\n",
      "Karp PERSON\n",
      "Mediabistro</h3><a href=\"https://www.mediabistro.com/ ORG\n",
      "src=\"https://www.mediabistro.com/wp-content/uploads/2016/07/technical-writing-300x169.jpg WORK_OF_ART\n",
      "300w PRODUCT\n",
      "400w PRODUCT\n",
      "768w PRODUCT\n",
      "330w PRODUCT\n",
      "860w WORK_OF_ART\n",
      "300px CARDINAL\n",
      "100vw ORDINAL\n",
      "300w ORG\n",
      "400w PRODUCT\n",
      "768w PRODUCT\n",
      "330w PRODUCT\n",
      "860w WORK_OF_ART\n",
      "300px CARDINAL\n",
      "100vw ORDINAL\n",
      "Social Media Manager</div></a></div ORG\n",
      "Karp PERSON\n",
      "tumblelog posts.</p ORG\n",
      "one CARDINAL\n",
      "New York&#8217;s GPE\n",
      "Karp ORG\n",
      "Davidville PERSON\n",
      "29th &amp ORG\n",
      "Park Avenue FAC\n",
      "February 2007 DATE\n",
      "WordPress ORG\n",
      "OCD ORG\n",
      "ADD ORG\n",
      "Karp PERSON\n",
      "mediabistro.com ORG\n",
      "Google ORG\n",
      "David Karp PERSON\n",
      "UrbanBaby ORG\n",
      "July 6, 1986 DATE\n",
      "New York City GPE\n",
      "Freshman year DATE\n",
      "Bronx Science High School ORG\n",
      "Marital status:</b PERSON\n",
      "First ORDINAL\n",
      "Sunday DATE\n",
      "Guilty pleasure:</b PERSON\n",
      "New York City GPE\n",
      "Geoffrey A. Moore</p PERSON\n",
      "h3 ORG\n",
      "2005 DATE\n",
      "Projectionist NORP\n",
      "Angelfire PERSON\n",
      "Projectionist NORP\n",
      "WordPress ORG\n",
      "8220;skin&#8221 MONEY\n",
      "first ORDINAL\n",
      "Projectionist NORP\n",
      "8212 MONEY\n",
      "Marco Arment PRODUCT\n",
      "first ORDINAL\n",
      "a year and a half DATE\n",
      "2006 DATE\n",
      "one month DATE\n",
      "two weeks DATE\n",
      "8220;Hey MONEY\n",
      "two weeks DATE\n",
      "first ORDINAL\n",
      "Tumblr GPE\n",
      "30,000 CARDINAL\n",
      "Tumblr GPE\n",
      "API ORG\n",
      "We&#8217;ve ORG\n",
      "We&#8217;re ORG\n",
      "h3 ORG\n",
      "Tumblr GPE\n",
      "15 years DATE\n",
      "a year DATE\n",
      "doing.</p ORG\n",
      "Twitter ORG\n",
      "two CARDINAL\n",
      "One CARDINAL\n",
      "Tumblr GPE\n",
      "about what you&#8217;re CARDINAL\n",
      "account.</p GPE\n",
      "three months DATE\n",
      "8212 MONEY\n",
      "Viacom ORG\n",
      "MTV ORG\n",
      "8212 MONEY\n",
      "TypePad PERSON\n",
      "WordPress ORG\n",
      "One CARDINAL\n",
      "8212 MONEY\n",
      "One CARDINAL\n",
      "Tumblr NORP\n",
      "8220;No MONEY\n",
      "guys.&#8221 PERSON\n",
      "you&#8217;re CARDINAL\n",
      "first ORDINAL\n",
      "first ORDINAL\n",
      "thousands CARDINAL\n",
      "one CARDINAL\n",
      "Flickr ORG\n",
      "Facebook ORG\n",
      "the end of the day DATE\n",
      "one CARDINAL\n",
      "about.</p GPE\n",
      "Tumblrs PERSON\n",
      "Tumblr].</p NORP\n",
      "div id='newsletter-signup-form' PERSON\n",
      "value=''/ PERSON\n",
      "value='daily'/></div CARDINAL\n",
      "div id='feedback' PERSON\n",
      "div class='pgn' PERSON\n",
      "div class='alert alert-info' PERSON\n",
      "div id=\"footer-share PERSON\n",
      "Share PERSON\n",
      "div PERSON\n",
      "addthis_button_facebook PERSON\n",
      "class=\"icon icon-03-tw-sq\"></i></a></li><li><a ORG\n",
      "class=\"icon icon-03-li-sq\"></i></a></li><li><a PERSON\n",
      "addthis_button_email PERSON\n",
      "class=\"icon icon-03-ml-sq\"></i></a></li></ul></div PERSON\n",
      "div id=\"post-topics PERSON\n",
      "Inspired</a ORG\n",
      "Video/Crew Producer</a ORG\n",
      "New York City</div GPE\n",
      "src=\"https://mediabistro-production.s3.amazonaws.com ORG\n",
      "Gossip News ORG\n",
      "div class=\"job-logo PERSON\n",
      "div class=\"job-content PERSON\n",
      "target=\"_blank\">Account ORG\n",
      "Executive</a PRODUCT\n",
      "location\">New York GPE\n",
      "NY GPE\n",
      "Angeles PRODUCT\n",
      "href=\"https://www.mediabistro.com CARDINAL\n",
      "src=\"https://mediabistro-production.s3.amazonaws.com ORG\n",
      "target=\"_blank\">Assistant Managing Editor</a ORG\n",
      "location\">New York GPE\n",
      "DC GPE\n",
      "Los Angeles GPE\n",
      "Jobs &raquo;</span></a ORG\n",
      "div PERSON\n",
      "div PERSON\n",
      "div PERSON\n",
      "h3><a href=\"https://www.mediabistro.com ORG\n",
      "h3><a href=\"https://www.mediabistro.com ORG\n",
      "MB ORG\n",
      "div id=\"privacy-links PERSON\n",
      "div class=\"menu-privacy-container\"><ul PERSON\n",
      "038 MONEY\n",
      "Conditions</a></li ORG\n",
      "li id=\"menu-item-5254 PERSON\n",
      "2020 DATE\n",
      "Mediabistro Holdings LLC FAC\n",
      "none\",d CARDINAL\n",
      "r.src='javascript PERSON\n",
      "Date EVENT\n",
      "onload=\"document._l();\">'),o.close()}(\"https://assets.zendesk.com/embeddable_framework DATE\n",
      "woocommerce_params CARDINAL\n",
      "0\n"
     ]
    }
   ],
   "source": [
    "#Counting number of NERs as an indicator of how distinguished either CEO is\n",
    "import spacy\n",
    "nlp=spacy.load(\"en_core_web_sm\")\n",
    "ctr=0\n",
    "doc=nlp(raw1)\n",
    "for ent in doc.ents:\n",
    "    print(ent.text, ent.label_)\n",
    "    \n",
    "print(ctr)"
   ]
  },
  {
   "cell_type": "code",
   "execution_count": 70,
   "metadata": {},
   "outputs": [
    {
     "name": "stdout",
     "output_type": "stream",
     "text": [
      "123\n"
     ]
    }
   ],
   "source": [
    "#removing html tags\n",
    "from bs4 import BeautifulSoup\n",
    "cleantext1 = BeautifulSoup(raw1, \"lxml\").text\n",
    "#counting Named Entities now by using en_core_web_sm for finding NERs\n",
    "ctr=0\n",
    "doc=nlp(cleantext1)\n",
    "for ent in doc.ents:\n",
    "    ctr=ctr+1\n",
    "print(ctr)"
   ]
  },
  {
   "cell_type": "code",
   "execution_count": 28,
   "metadata": {},
   "outputs": [
    {
     "name": "stdout",
     "output_type": "stream",
     "text": [
      "130\n"
     ]
    }
   ],
   "source": [
    "cleantext = BeautifulSoup(raw2, \"lxml\").text\n",
    "\n",
    "ctr=0\n",
    "doc=nlp(cleantext)\n",
    "for ent in doc.ents:\n",
    "    ctr=ctr+1\n",
    "print(ctr)\n",
    "\n",
    "#Efe seems to have more Named Entities in his article"
   ]
  }
 ],
 "metadata": {
  "kernelspec": {
   "display_name": "Python 3",
   "language": "python",
   "name": "python3"
  },
  "language_info": {
   "codemirror_mode": {
    "name": "ipython",
    "version": 3
   },
   "file_extension": ".py",
   "mimetype": "text/x-python",
   "name": "python",
   "nbconvert_exporter": "python",
   "pygments_lexer": "ipython3",
   "version": "3.7.1"
  }
 },
 "nbformat": 4,
 "nbformat_minor": 2
}
